{
 "cells": [
  {
   "cell_type": "code",
   "execution_count": 10,
   "metadata": {},
   "outputs": [
    {
     "name": "stdout",
     "output_type": "stream",
     "text": [
      "Requirement already satisfied: SpeechRecognition in ./env/lib/python3.9/site-packages (3.10.0)\n",
      "Requirement already satisfied: requests>=2.26.0 in ./env/lib/python3.9/site-packages (from SpeechRecognition) (2.31.0)\n",
      "Requirement already satisfied: charset-normalizer<4,>=2 in ./env/lib/python3.9/site-packages (from requests>=2.26.0->SpeechRecognition) (3.1.0)\n",
      "Requirement already satisfied: idna<4,>=2.5 in ./env/lib/python3.9/site-packages (from requests>=2.26.0->SpeechRecognition) (3.4)\n",
      "Requirement already satisfied: urllib3<3,>=1.21.1 in ./env/lib/python3.9/site-packages (from requests>=2.26.0->SpeechRecognition) (1.26.16)\n",
      "Requirement already satisfied: certifi>=2017.4.17 in ./env/lib/python3.9/site-packages (from requests>=2.26.0->SpeechRecognition) (2023.5.7)\n",
      "\u001b[33mWARNING: You are using pip version 21.2.4; however, version 23.1.2 is available.\n",
      "You should consider upgrading via the '/Users/gabriel/Desktop/Hackathon/HackathonChatGPT/env/bin/python3 -m pip install --upgrade pip' command.\u001b[0m\n",
      "Collecting PyAudio\n",
      "  Using cached PyAudio-0.2.13.tar.gz (46 kB)\n",
      "  Installing build dependencies ... \u001b[?25ldone\n",
      "\u001b[?25h  Getting requirements to build wheel ... \u001b[?25ldone\n",
      "\u001b[?25h    Preparing wheel metadata ... \u001b[?25ldone\n",
      "\u001b[?25hBuilding wheels for collected packages: PyAudio\n",
      "  Building wheel for PyAudio (PEP 517) ... \u001b[?25lerror\n",
      "\u001b[31m  ERROR: Command errored out with exit status 1:\n",
      "   command: /Users/gabriel/Desktop/Hackathon/HackathonChatGPT/env/bin/python3 /Users/gabriel/Desktop/Hackathon/HackathonChatGPT/env/lib/python3.9/site-packages/pip/_vendor/pep517/in_process/_in_process.py build_wheel /var/folders/kr/h7cmx_nj37s_w1jnqxqg763m0000gn/T/tmpf19po081\n",
      "       cwd: /private/var/folders/kr/h7cmx_nj37s_w1jnqxqg763m0000gn/T/pip-install-tis03y07/pyaudio_dd735d7ef5b64736b7806dbfeb2717f5\n",
      "  Complete output (18 lines):\n",
      "  running bdist_wheel\n",
      "  running build\n",
      "  running build_py\n",
      "  creating build\n",
      "  creating build/lib.macosx-10.9-universal2-cpython-39\n",
      "  creating build/lib.macosx-10.9-universal2-cpython-39/pyaudio\n",
      "  copying src/pyaudio/__init__.py -> build/lib.macosx-10.9-universal2-cpython-39/pyaudio\n",
      "  running build_ext\n",
      "  building 'pyaudio._portaudio' extension\n",
      "  creating build/temp.macosx-10.9-universal2-cpython-39\n",
      "  creating build/temp.macosx-10.9-universal2-cpython-39/src\n",
      "  creating build/temp.macosx-10.9-universal2-cpython-39/src/pyaudio\n",
      "  clang -Wno-unused-result -Wsign-compare -Wunreachable-code -fno-common -dynamic -DNDEBUG -g -fwrapv -O3 -Wall -iwithsysroot/System/Library/Frameworks/System.framework/PrivateHeaders -iwithsysroot/Applications/Xcode.app/Contents/Developer/Library/Frameworks/Python3.framework/Versions/3.9/Headers -arch arm64 -arch x86_64 -Werror=implicit-function-declaration -Wno-error=unreachable-code -DMACOS=1 -I/usr/local/include -I/usr/include -I/opt/homebrew/include -I/Users/gabriel/Desktop/Hackathon/HackathonChatGPT/env/include -I/Library/Developer/CommandLineTools/Library/Frameworks/Python3.framework/Versions/3.9/include/python3.9 -c src/pyaudio/device_api.c -o build/temp.macosx-10.9-universal2-cpython-39/src/pyaudio/device_api.o\n",
      "  src/pyaudio/device_api.c:9:10: fatal error: 'portaudio.h' file not found\n",
      "  #include \"portaudio.h\"\n",
      "           ^~~~~~~~~~~~~\n",
      "  1 error generated.\n",
      "  error: command '/usr/bin/clang' failed with exit code 1\n",
      "  ----------------------------------------\u001b[0m\n",
      "\u001b[?25h\u001b[31m  ERROR: Failed building wheel for PyAudio\u001b[0m\n",
      "Failed to build PyAudio\n",
      "\u001b[31mERROR: Could not build wheels for PyAudio which use PEP 517 and cannot be installed directly\u001b[0m\n",
      "\u001b[33mWARNING: You are using pip version 21.2.4; however, version 23.1.2 is available.\n",
      "You should consider upgrading via the '/Users/gabriel/Desktop/Hackathon/HackathonChatGPT/env/bin/python3 -m pip install --upgrade pip' command.\u001b[0m\n"
     ]
    }
   ],
   "source": [
    "!pip install SpeechRecognition\n",
    "# !pip install pipwin\n",
    "!pip install PyAudio"
   ]
  },
  {
   "cell_type": "code",
   "execution_count": 7,
   "metadata": {},
   "outputs": [],
   "source": [
    "import speech_recognition as sr\n",
    "\n",
    "def extract_text_from_voice():\n",
    "  speech_recognition = sr.Recognizer()\n",
    "  with sr.Microphone() as source:\n",
    "    audio = speech_recognition.listen(source, phrase_time_limit=2)\n",
    "    audio_text = \"\"\n",
    "\n",
    "    try:\n",
    "      audio_text = speech_recognition.recognize_google(audio)\n",
    "      print(audio_text)\n",
    "    except Exception as e:\n",
    "      print(f\"Exception: {str(e)}\")\n",
    "\n",
    "    return audio_text"
   ]
  },
  {
   "cell_type": "code",
   "execution_count": 8,
   "metadata": {},
   "outputs": [
    {
     "ename": "AttributeError",
     "evalue": "Could not find PyAudio; check installation",
     "output_type": "error",
     "traceback": [
      "\u001b[0;31m---------------------------------------------------------------------------\u001b[0m",
      "\u001b[0;31mModuleNotFoundError\u001b[0m                       Traceback (most recent call last)",
      "File \u001b[0;32m~/Desktop/Hackathon/HackathonChatGPT/env/lib/python3.9/site-packages/speech_recognition/__init__.py:108\u001b[0m, in \u001b[0;36mMicrophone.get_pyaudio\u001b[0;34m()\u001b[0m\n\u001b[1;32m    107\u001b[0m \u001b[39mtry\u001b[39;00m:\n\u001b[0;32m--> 108\u001b[0m     \u001b[39mimport\u001b[39;00m \u001b[39mpyaudio\u001b[39;00m\n\u001b[1;32m    109\u001b[0m \u001b[39mexcept\u001b[39;00m \u001b[39mImportError\u001b[39;00m:\n",
      "\u001b[0;31mModuleNotFoundError\u001b[0m: No module named 'pyaudio'",
      "\nDuring handling of the above exception, another exception occurred:\n",
      "\u001b[0;31mAttributeError\u001b[0m                            Traceback (most recent call last)",
      "Cell \u001b[0;32mIn[8], line 1\u001b[0m\n\u001b[0;32m----> 1\u001b[0m extract_text_from_voice()\n",
      "Cell \u001b[0;32mIn[7], line 5\u001b[0m, in \u001b[0;36mextract_text_from_voice\u001b[0;34m()\u001b[0m\n\u001b[1;32m      3\u001b[0m \u001b[39mdef\u001b[39;00m \u001b[39mextract_text_from_voice\u001b[39m():\n\u001b[1;32m      4\u001b[0m   speech_recognition \u001b[39m=\u001b[39m sr\u001b[39m.\u001b[39mRecognizer()\n\u001b[0;32m----> 5\u001b[0m   \u001b[39mwith\u001b[39;00m sr\u001b[39m.\u001b[39;49mMicrophone() \u001b[39mas\u001b[39;00m source:\n\u001b[1;32m      6\u001b[0m     audio \u001b[39m=\u001b[39m speech_recognition\u001b[39m.\u001b[39mlisten(source, phrase_time_limit\u001b[39m=\u001b[39m\u001b[39m2\u001b[39m)\n\u001b[1;32m      7\u001b[0m     audio_text \u001b[39m=\u001b[39m \u001b[39m\"\u001b[39m\u001b[39m\"\u001b[39m\n",
      "File \u001b[0;32m~/Desktop/Hackathon/HackathonChatGPT/env/lib/python3.9/site-packages/speech_recognition/__init__.py:80\u001b[0m, in \u001b[0;36mMicrophone.__init__\u001b[0;34m(self, device_index, sample_rate, chunk_size)\u001b[0m\n\u001b[1;32m     77\u001b[0m \u001b[39massert\u001b[39;00m \u001b[39misinstance\u001b[39m(chunk_size, \u001b[39mint\u001b[39m) \u001b[39mand\u001b[39;00m chunk_size \u001b[39m>\u001b[39m \u001b[39m0\u001b[39m, \u001b[39m\"\u001b[39m\u001b[39mChunk size must be a positive integer\u001b[39m\u001b[39m\"\u001b[39m\n\u001b[1;32m     79\u001b[0m \u001b[39m# set up PyAudio\u001b[39;00m\n\u001b[0;32m---> 80\u001b[0m \u001b[39mself\u001b[39m\u001b[39m.\u001b[39mpyaudio_module \u001b[39m=\u001b[39m \u001b[39mself\u001b[39;49m\u001b[39m.\u001b[39;49mget_pyaudio()\n\u001b[1;32m     81\u001b[0m audio \u001b[39m=\u001b[39m \u001b[39mself\u001b[39m\u001b[39m.\u001b[39mpyaudio_module\u001b[39m.\u001b[39mPyAudio()\n\u001b[1;32m     82\u001b[0m \u001b[39mtry\u001b[39;00m:\n",
      "File \u001b[0;32m~/Desktop/Hackathon/HackathonChatGPT/env/lib/python3.9/site-packages/speech_recognition/__init__.py:110\u001b[0m, in \u001b[0;36mMicrophone.get_pyaudio\u001b[0;34m()\u001b[0m\n\u001b[1;32m    108\u001b[0m     \u001b[39mimport\u001b[39;00m \u001b[39mpyaudio\u001b[39;00m\n\u001b[1;32m    109\u001b[0m \u001b[39mexcept\u001b[39;00m \u001b[39mImportError\u001b[39;00m:\n\u001b[0;32m--> 110\u001b[0m     \u001b[39mraise\u001b[39;00m \u001b[39mAttributeError\u001b[39;00m(\u001b[39m\"\u001b[39m\u001b[39mCould not find PyAudio; check installation\u001b[39m\u001b[39m\"\u001b[39m)\n\u001b[1;32m    111\u001b[0m \u001b[39mfrom\u001b[39;00m \u001b[39mdistutils\u001b[39;00m\u001b[39m.\u001b[39;00m\u001b[39mversion\u001b[39;00m \u001b[39mimport\u001b[39;00m LooseVersion\n\u001b[1;32m    112\u001b[0m \u001b[39mif\u001b[39;00m LooseVersion(pyaudio\u001b[39m.\u001b[39m__version__) \u001b[39m<\u001b[39m LooseVersion(\u001b[39m\"\u001b[39m\u001b[39m0.2.11\u001b[39m\u001b[39m\"\u001b[39m):\n",
      "\u001b[0;31mAttributeError\u001b[0m: Could not find PyAudio; check installation"
     ]
    }
   ],
   "source": [
    "extract_text_from_voice()"
   ]
  }
 ],
 "metadata": {
  "kernelspec": {
   "display_name": "env",
   "language": "python",
   "name": "python3"
  },
  "language_info": {
   "codemirror_mode": {
    "name": "ipython",
    "version": 3
   },
   "file_extension": ".py",
   "mimetype": "text/x-python",
   "name": "python",
   "nbconvert_exporter": "python",
   "pygments_lexer": "ipython3",
   "version": "3.9.6"
  },
  "orig_nbformat": 4
 },
 "nbformat": 4,
 "nbformat_minor": 2
}
